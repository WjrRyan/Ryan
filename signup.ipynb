{
 "cells": [
  {
   "cell_type": "code",
   "execution_count": 13,
   "metadata": {},
   "outputs": [
    {
     "name": "stderr",
     "output_type": "stream",
     "text": [
      "/Users/Ryan/Library/Python/3.9/lib/python/site-packages/openpyxl/styles/stylesheet.py:226: UserWarning: Workbook contains no default style, apply openpyxl's default\n",
      "  warn(\"Workbook contains no default style, apply openpyxl's default\")\n"
     ]
    },
    {
     "name": "stdout",
     "output_type": "stream",
     "text": [
      "平均签到率: 0.5954527365784184\n",
      "中位签到率: 0.6193064182194616\n"
     ]
    },
    {
     "name": "stderr",
     "output_type": "stream",
     "text": [
      "/var/folders/px/_lmslx495dv4y3rhll08s8440000gq/T/ipykernel_17009/1513116247.py:20: SettingWithCopyWarning: \n",
      "A value is trying to be set on a copy of a slice from a DataFrame.\n",
      "Try using .loc[row_indexer,col_indexer] = value instead\n",
      "\n",
      "See the caveats in the documentation: https://pandas.pydata.org/pandas-docs/stable/user_guide/indexing.html#returning-a-view-versus-a-copy\n",
      "  data_clean['报名人数'] = data_clean['报名人数'].apply(extract_last_number_from_href)\n",
      "/var/folders/px/_lmslx495dv4y3rhll08s8440000gq/T/ipykernel_17009/1513116247.py:21: SettingWithCopyWarning: \n",
      "A value is trying to be set on a copy of a slice from a DataFrame.\n",
      "Try using .loc[row_indexer,col_indexer] = value instead\n",
      "\n",
      "See the caveats in the documentation: https://pandas.pydata.org/pandas-docs/stable/user_guide/indexing.html#returning-a-view-versus-a-copy\n",
      "  data_clean['签到人数'] = data_clean['签到人数'].apply(extract_last_number_from_href)\n",
      "/var/folders/px/_lmslx495dv4y3rhll08s8440000gq/T/ipykernel_17009/1513116247.py:27: SettingWithCopyWarning: \n",
      "A value is trying to be set on a copy of a slice from a DataFrame.\n",
      "Try using .loc[row_indexer,col_indexer] = value instead\n",
      "\n",
      "See the caveats in the documentation: https://pandas.pydata.org/pandas-docs/stable/user_guide/indexing.html#returning-a-view-versus-a-copy\n",
      "  data_filtered['签到率'] = data_filtered['签到人数'] / data_filtered['报名人数']\n"
     ]
    }
   ],
   "source": [
    "import pandas as pd\n",
    "import re\n",
    "import matplotlib.pyplot as plt\n",
    "import seaborn as sns\n",
    "\n",
    "# 定义正则表达式函数，提取 '>' 后的数字\n",
    "def extract_last_number_from_href(text):\n",
    "    # 正则表达式匹配 '>' 符号后面跟随的数字\n",
    "    match = re.search(r'>(\\d+)', str(text))\n",
    "    return int(match.group(1)) if match else None\n",
    "\n",
    "# 读取 Excel 文件\n",
    "file_path = '/Users/Ryan/Downloads/培训班跟踪表_sr--456970065.xlsx'\n",
    "excel_data = pd.read_excel(file_path)\n",
    "\n",
    "# 提取 '报名人数' 和 '签到人数' 两列\n",
    "data_clean = excel_data[['报名人数', '签到人数']]\n",
    "\n",
    "# 应用正则表达式提取 '>' 后面的数字\n",
    "data_clean['报名人数'] = data_clean['报名人数'].apply(extract_last_number_from_href)\n",
    "data_clean['签到人数'] = data_clean['签到人数'].apply(extract_last_number_from_href)\n",
    "\n",
    "# 剔除报名人数和签到人数为 0 或 NaN 的行\n",
    "data_filtered = data_clean[(data_clean['报名人数'] > 0) & (data_clean['签到人数'] > 0)]\n",
    "\n",
    "# 计算每一行的签到率\n",
    "data_filtered['签到率'] = data_filtered['签到人数'] / data_filtered['报名人数']\n",
    "\n",
    "# 剔除签到率大于 1 的行\n",
    "data_filtered = data_filtered[data_filtered['签到率'] <= 1]\n",
    "\n",
    "# 计算平均签到率\n",
    "average_signin_rate = data_filtered['签到率'].mean()\n",
    "\n",
    "# 计算中位签到率\n",
    "median_signin_rate = data_filtered['签到率'].median()\n",
    "\n",
    "# 输出结果\n",
    "print(f\"平均签到率: {average_signin_rate}\")\n",
    "print(f\"中位签到率: {median_signin_rate}\")\n"
   ]
  }
 ],
 "metadata": {
  "kernelspec": {
   "display_name": "Python 3",
   "language": "python",
   "name": "python3"
  },
  "language_info": {
   "codemirror_mode": {
    "name": "ipython",
    "version": 3
   },
   "file_extension": ".py",
   "mimetype": "text/x-python",
   "name": "python",
   "nbconvert_exporter": "python",
   "pygments_lexer": "ipython3",
   "version": "3.9.6"
  }
 },
 "nbformat": 4,
 "nbformat_minor": 2
}
