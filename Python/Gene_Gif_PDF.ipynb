{
 "cells": [
  {
   "cell_type": "markdown",
   "metadata": {},
   "source": [
    "生成 Gif"
   ]
  },
  {
   "cell_type": "code",
   "execution_count": null,
   "metadata": {},
   "outputs": [],
   "source": [
    "from PIL import Image, ImageDraw\n",
    "\n",
    "def create_large_gif(filename, size=(500, 500), duration=50, frames=10000):\n",
    "    images = []\n",
    "    for i in range(frames):\n",
    "        image = Image.new(\"RGB\", size, color=(i % 256, (i*2) % 256, (i*3) % 256))\n",
    "        draw = ImageDraw.Draw(image)\n",
    "        draw.text((size[0]//2 - 10, size[1]//2 - 10), str(i), fill=\"white\")\n",
    "        images.append(image)\n",
    "    \n",
    "    # Save to gif\n",
    "    images[0].save(filename, save_all=True, append_images=images[1:], duration=duration, loop=0)\n",
    "\n",
    "create_large_gif(\"large_example.gif\")"
   ]
  },
  {
   "cell_type": "markdown",
   "metadata": {},
   "source": [
    "生成 PDF"
   ]
  },
  {
   "cell_type": "code",
   "execution_count": null,
   "metadata": {},
   "outputs": [],
   "source": [
    "from fpdf import FPDF\n",
    "\n",
    "class PDF(FPDF):\n",
    "    def header(self):\n",
    "        self.set_font('Arial', 'B', 12)\n",
    "        self.cell(0, 10, 'Large PDF File', 0, 1, 'C')\n",
    "\n",
    "    def footer(self):\n",
    "        self.set_y(-15)\n",
    "        self.set_font('Arial', 'I', 8)\n",
    "        self.cell(0, 10, 'Page %s' % self.page_no(), 0, 0, 'C')\n",
    "\n",
    "    def chapter_title(self, num, label):\n",
    "        self.set_font('Arial', 'B', 12)\n",
    "        self.cell(0, 10, 'Chapter %d : %s' % (num, label), 0, 1, 'L')\n",
    "        self.ln(4)\n",
    "\n",
    "    def chapter_body(self, body):\n",
    "        self.set_font('Arial', '', 12)\n",
    "        self.multi_cell(0, 10, body)\n",
    "        self.ln()\n",
    "\n",
    "    def add_chapter(self, num, title, body):\n",
    "        self.add_page()\n",
    "        self.chapter_title(num, title)\n",
    "        self.chapter_body(body)\n",
    "\n",
    "# Create instance of FPDF class\n",
    "pdf = PDF()\n",
    "\n",
    "# Generate large content\n",
    "large_text = \"This is a large PDF file.\\n\" * 1000  # Adjust repetition for size\n",
    "\n",
    "# Add chapters to increase the size of the PDF\n",
    "for i in range(1, 501):  # Adjust range for size\n",
    "    pdf.add_chapter(i, f'Title {i}', large_text)\n",
    "\n",
    "# Save the PDF\n",
    "pdf.output(\"large_example.pdf\")"
   ]
  },
  {
   "cell_type": "code",
   "execution_count": 1,
   "metadata": {},
   "outputs": [
    {
     "ename": "IndentationError",
     "evalue": "unexpected indent (2838611809.py, line 2)",
     "output_type": "error",
     "traceback": [
      "\u001b[0;36m  Cell \u001b[0;32mIn[1], line 2\u001b[0;36m\u001b[0m\n\u001b[0;31m    participant User\u001b[0m\n\u001b[0m    ^\u001b[0m\n\u001b[0;31mIndentationError\u001b[0m\u001b[0;31m:\u001b[0m unexpected indent\n"
     ]
    }
   ],
   "source": [
    "sequenceDiagram\n",
    "    participant User\n",
    "    participant Frontend\n",
    "    participant Backend\n",
    "    participant Database\n",
    "\n",
    "    User->>Frontend: 请求查看分享链接卡片\n",
    "    Frontend->>Backend: GET /api/link-cards\n",
    "    Backend->>Database: 查询 LinkCard 表\n",
    "    Database-->>Backend: 返回卡片数据\n",
    "    Backend-->>Frontend: 返回卡片数据\n",
    "    Frontend-->>User: 显示卡片\n",
    "\n",
    "    User->>Frontend: 点击卡片\n",
    "    Frontend->>Backend: POST /api/user-actions\n",
    "    Backend->>Database: 插入 UserAction 记录\n",
    "    Database-->>Backend: 确认插入\n",
    "    Backend-->>Frontend: 返回操作成功\n",
    "    Frontend-->>User: 显示操作结果"
   ]
  }
 ],
 "metadata": {
  "kernelspec": {
   "display_name": "Python 3",
   "language": "python",
   "name": "python3"
  },
  "language_info": {
   "codemirror_mode": {
    "name": "ipython",
    "version": 3
   },
   "file_extension": ".py",
   "mimetype": "text/x-python",
   "name": "python",
   "nbconvert_exporter": "python",
   "pygments_lexer": "ipython3",
   "version": "3.9.6"
  }
 },
 "nbformat": 4,
 "nbformat_minor": 2
}
