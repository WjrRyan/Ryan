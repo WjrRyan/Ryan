{
 "cells": [
  {
   "cell_type": "code",
   "execution_count": 1,
   "metadata": {},
   "outputs": [],
   "source": [
    "import numpy as np\n",
    "import pandas as pd\n",
    "import matplotlib.pyplot as plt\n",
    "import seaborn as sns\n",
    "import pygwalker as pyg\n",
    "\n",
    "import warnings\n",
    "warnings.filterwarnings('ignore')\n",
    "\n",
    "pd.set_option('display.max_columns', None)\n",
    "\n",
    "plt.rcParams['font.sans-serif'] = ['SimHei']  \n",
    "plt.rcParams['axes.unicode_minus'] = False "
   ]
  },
  {
   "cell_type": "markdown",
   "metadata": {},
   "source": [
    "### 一些问题\n",
    "\n",
    "- 未上架是还没上架还是本来对限制人群开发？\n",
    "- 开放对象和开放人员分别是什么？\n",
    "- 精品课的占比应该是多少？"
   ]
  },
  {
   "cell_type": "code",
   "execution_count": 1,
   "metadata": {},
   "outputs": [
    {
     "ename": "NameError",
     "evalue": "name 'plt' is not defined",
     "output_type": "error",
     "traceback": [
      "\u001b[0;31m---------------------------------------------------------------------------\u001b[0m",
      "\u001b[0;31mNameError\u001b[0m                                 Traceback (most recent call last)",
      "Cell \u001b[0;32mIn[1], line 2\u001b[0m\n\u001b[1;32m      1\u001b[0m \u001b[38;5;66;03m# 可视化学习人数分布\u001b[39;00m\n\u001b[0;32m----> 2\u001b[0m \u001b[43mplt\u001b[49m\u001b[38;5;241m.\u001b[39mfigure(figsize\u001b[38;5;241m=\u001b[39m(\u001b[38;5;241m10\u001b[39m, \u001b[38;5;241m6\u001b[39m))\n\u001b[1;32m      3\u001b[0m sns\u001b[38;5;241m.\u001b[39mhistplot(data[\u001b[38;5;124m'\u001b[39m\u001b[38;5;124m学习人数\u001b[39m\u001b[38;5;124m'\u001b[39m], bins\u001b[38;5;241m=\u001b[39m\u001b[38;5;241m50\u001b[39m, kde\u001b[38;5;241m=\u001b[39m\u001b[38;5;28;01mTrue\u001b[39;00m)\n\u001b[1;32m      4\u001b[0m plt\u001b[38;5;241m.\u001b[39mtitle(\u001b[38;5;124m'\u001b[39m\u001b[38;5;124m学习人数分布\u001b[39m\u001b[38;5;124m'\u001b[39m)\n",
      "\u001b[0;31mNameError\u001b[0m: name 'plt' is not defined"
     ]
    }
   ],
   "source": [
    "# 可视化学习人数分布\n",
    "plt.figure(figsize=(10, 6))\n",
    "sns.histplot(data['学习人数'], bins=50, kde=True)\n",
    "plt.title('学习人数分布')\n",
    "plt.xlabel('学习人数')\n",
    "plt.ylabel('频率')\n",
    "plt.show()\n",
    "\n",
    "# 完成率箱线图\n",
    "plt.figure(figsize=(10, 6))\n",
    "sns.boxplot(y=data['完成率'])\n",
    "plt.title('课程完成率分布')\n",
    "plt.ylabel('完成率')\n",
    "plt.show()\n",
    "\n",
    "# 相关性分析\n",
    "correlation_matrix = data[['学习人数', '完成率', '收藏率', '评论率', '综合评分']].corr()\n",
    "plt.figure(figsize=(10, 8))\n",
    "sns.heatmap(correlation_matrix, annot=True, cmap='coolwarm')\n",
    "plt.title('指标相关性热力图')\n",
    "plt.show()"
   ]
  },
  {
   "cell_type": "code",
   "execution_count": 24,
   "metadata": {},
   "outputs": [
    {
     "data": {
      "text/html": [
       "<div>\n",
       "<style scoped>\n",
       "    .dataframe tbody tr th:only-of-type {\n",
       "        vertical-align: middle;\n",
       "    }\n",
       "\n",
       "    .dataframe tbody tr th {\n",
       "        vertical-align: top;\n",
       "    }\n",
       "\n",
       "    .dataframe thead th {\n",
       "        text-align: right;\n",
       "    }\n",
       "</style>\n",
       "<table border=\"1\" class=\"dataframe\">\n",
       "  <thead>\n",
       "    <tr style=\"text-align: right;\">\n",
       "      <th></th>\n",
       "      <th>课程ID</th>\n",
       "      <th>课程名称</th>\n",
       "      <th>是否上架</th>\n",
       "      <th>课程所属学院</th>\n",
       "      <th>学院组</th>\n",
       "      <th>课程类型</th>\n",
       "      <th>课程语言：C中文，E英文，J日语，K韩，R俄，F法，G德，O其他</th>\n",
       "      <th>学习人数</th>\n",
       "      <th>完成人数</th>\n",
       "      <th>收藏人数</th>\n",
       "      <th>综合评分</th>\n",
       "      <th>课程评论数量</th>\n",
       "      <th>笔记数量</th>\n",
       "      <th>课程标签</th>\n",
       "      <th>创建人工号</th>\n",
       "      <th>创建人姓名</th>\n",
       "      <th>创建人事业部</th>\n",
       "      <th>创建人部门</th>\n",
       "      <th>创建时间</th>\n",
       "      <th>讲师工号</th>\n",
       "      <th>讲师姓名</th>\n",
       "      <th>展示分类</th>\n",
       "      <th>开放对象</th>\n",
       "      <th>开放人员</th>\n",
       "    </tr>\n",
       "  </thead>\n",
       "  <tbody>\n",
       "    <tr>\n",
       "      <th>0</th>\n",
       "      <td>11485</td>\n",
       "      <td>酒店集团业务的突破和创新</td>\n",
       "      <td>未上架</td>\n",
       "      <td>大住宿学院</td>\n",
       "      <td>大住宿</td>\n",
       "      <td>NaN</td>\n",
       "      <td>C</td>\n",
       "      <td>0</td>\n",
       "      <td>0</td>\n",
       "      <td>0</td>\n",
       "      <td>NaN</td>\n",
       "      <td>0</td>\n",
       "      <td>0</td>\n",
       "      <td>NaN</td>\n",
       "      <td>sysadmin</td>\n",
       "      <td>NaN</td>\n",
       "      <td>NaN</td>\n",
       "      <td>NaN</td>\n",
       "      <td>2023-02-01 10:13:19</td>\n",
       "      <td>NaN</td>\n",
       "      <td>NaN</td>\n",
       "      <td>业务知识</td>\n",
       "      <td>a href=`http://artnova.ops.ctripcorp.com/?empl...</td>\n",
       "      <td>a href=`http://artnova.ops.ctripcorp.com/?empl...</td>\n",
       "    </tr>\n",
       "    <tr>\n",
       "      <th>1</th>\n",
       "      <td>4532</td>\n",
       "      <td>投投是道19</td>\n",
       "      <td>已上架</td>\n",
       "      <td>机票学院</td>\n",
       "      <td>NaN</td>\n",
       "      <td>NaN</td>\n",
       "      <td>C</td>\n",
       "      <td>1834</td>\n",
       "      <td>1833</td>\n",
       "      <td>13</td>\n",
       "      <td>5.0</td>\n",
       "      <td>12</td>\n",
       "      <td>0</td>\n",
       "      <td>业务知识</td>\n",
       "      <td>N05255</td>\n",
       "      <td>Wei Cheng （成伟）</td>\n",
       "      <td>BG-机票事业群</td>\n",
       "      <td>机票服务部</td>\n",
       "      <td>2019-12-12 11:04:59</td>\n",
       "      <td>N05255</td>\n",
       "      <td>Wei Cheng （成伟）(机票服务部)</td>\n",
       "      <td>NaN</td>\n",
       "      <td>a href=`http://artnova.ops.ctripcorp.com/?empl...</td>\n",
       "      <td>a href=`http://artnova.ops.ctripcorp.com/?empl...</td>\n",
       "    </tr>\n",
       "  </tbody>\n",
       "</table>\n",
       "</div>"
      ],
      "text/plain": [
       "    课程ID          课程名称 是否上架 课程所属学院  学院组 课程类型 课程语言：C中文，E英文，J日语，K韩，R俄，F法，G德，O其他  \\\n",
       "0  11485  酒店集团业务的突破和创新  未上架  大住宿学院  大住宿  NaN                                C   \n",
       "1   4532        投投是道19  已上架   机票学院  NaN  NaN                                C   \n",
       "\n",
       "   学习人数  完成人数  收藏人数  综合评分  课程评论数量  笔记数量  课程标签     创建人工号           创建人姓名  \\\n",
       "0     0     0     0   NaN       0     0   NaN  sysadmin             NaN   \n",
       "1  1834  1833    13   5.0      12     0  业务知识    N05255  Wei Cheng （成伟）   \n",
       "\n",
       "     创建人事业部  创建人部门                 创建时间    讲师工号                   讲师姓名  展示分类  \\\n",
       "0       NaN    NaN  2023-02-01 10:13:19     NaN                    NaN  业务知识   \n",
       "1  BG-机票事业群  机票服务部  2019-12-12 11:04:59  N05255  Wei Cheng （成伟）(机票服务部)   NaN   \n",
       "\n",
       "                                                开放对象  \\\n",
       "0  a href=`http://artnova.ops.ctripcorp.com/?empl...   \n",
       "1  a href=`http://artnova.ops.ctripcorp.com/?empl...   \n",
       "\n",
       "                                                开放人员  \n",
       "0  a href=`http://artnova.ops.ctripcorp.com/?empl...  \n",
       "1  a href=`http://artnova.ops.ctripcorp.com/?empl...  "
      ]
     },
     "execution_count": 24,
     "metadata": {},
     "output_type": "execute_result"
    }
   ],
   "source": [
    "# data = pd.read_excel('..\\课程信息统计.xlsx')\n",
    "# data.to_csv('..\\课程信息统计.csv', index=False)\n",
    "data =  pd.read_csv('..\\课程信息统计.csv')\n",
    "data.head(2)"
   ]
  },
  {
   "cell_type": "code",
   "execution_count": 11,
   "metadata": {},
   "outputs": [],
   "source": [
    "# data.query(\"是否上架=='未上架'\")['学习人数'].value_counts(normalize=True)  "
   ]
  },
  {
   "cell_type": "code",
   "execution_count": 12,
   "metadata": {},
   "outputs": [],
   "source": [
    "# data.query(\"是否上架=='已上架'\")['学习人数'].value_counts(normalize=True) "
   ]
  },
  {
   "cell_type": "code",
   "execution_count": 25,
   "metadata": {},
   "outputs": [
    {
     "data": {
      "text/plain": [
       "综合评分\n",
       "5.0    0.984889\n",
       "4.0    0.010825\n",
       "3.0    0.002255\n",
       "2.0    0.000902\n",
       "1.0    0.000677\n",
       "6.0    0.000451\n",
       "Name: proportion, dtype: float64"
      ]
     },
     "execution_count": 25,
     "metadata": {},
     "output_type": "execute_result"
    }
   ],
   "source": [
    "data['综合评分'].value_counts(normalize=True)"
   ]
  },
  {
   "cell_type": "code",
   "execution_count": 13,
   "metadata": {},
   "outputs": [
    {
     "data": {
      "text/plain": [
       "0.35381380015914515"
      ]
     },
     "execution_count": 13,
     "metadata": {},
     "output_type": "execute_result"
    }
   ],
   "source": [
    "data.query(\"学习人数 <=10\").shape[0]/data.shape[0]"
   ]
  },
  {
   "cell_type": "code",
   "execution_count": 14,
   "metadata": {},
   "outputs": [
    {
     "data": {
      "text/plain": [
       "0.6710242127998182"
      ]
     },
     "execution_count": 14,
     "metadata": {},
     "output_type": "execute_result"
    }
   ],
   "source": [
    "data.query(\"学习人数 <=100\").shape[0]/data.shape[0]"
   ]
  },
  {
   "cell_type": "code",
   "execution_count": 26,
   "metadata": {},
   "outputs": [],
   "source": [
    "data['完成率'] = data['完成人数']/data['学习人数']\n",
    "data['收藏率'] = data['收藏人数']/data['学习人数']\n",
    "\n",
    "data['评论率'] = data['课程评论数量']/data['学习人数']\n",
    "# data['笔记率'] = data['笔记数量']/data['学习人数']"
   ]
  },
  {
   "cell_type": "code",
   "execution_count": 35,
   "metadata": {},
   "outputs": [
    {
     "data": {
      "text/plain": [
       "0.1      0.0\n",
       "0.2      0.0\n",
       "0.5     34.0\n",
       "0.8    301.0\n",
       "0.9    580.0\n",
       "Name: 学习人数, dtype: float64"
      ]
     },
     "execution_count": 35,
     "metadata": {},
     "output_type": "execute_result"
    }
   ],
   "source": [
    "data['学习人数'].quantile([0.1, 0.2, 0.5, 0.8,0.9])"
   ]
  },
  {
   "cell_type": "code",
   "execution_count": 32,
   "metadata": {},
   "outputs": [
    {
     "data": {
      "text/plain": [
       "0.1    0.076923\n",
       "0.2    0.236881\n",
       "0.5    0.733333\n",
       "0.7    0.927594\n",
       "0.9    0.997064\n",
       "Name: 完成率, dtype: float64"
      ]
     },
     "execution_count": 32,
     "metadata": {},
     "output_type": "execute_result"
    }
   ],
   "source": [
    "data['完成率'].quantile([0.1, 0.2, 0.5, 0.8,0.9])\n"
   ]
  },
  {
   "cell_type": "code",
   "execution_count": 33,
   "metadata": {},
   "outputs": [
    {
     "data": {
      "text/plain": [
       "0.1    0.000000\n",
       "0.2    0.000000\n",
       "0.5    0.000000\n",
       "0.8    0.044444\n",
       "0.9    0.090909\n",
       "Name: 收藏率, dtype: float64"
      ]
     },
     "execution_count": 33,
     "metadata": {},
     "output_type": "execute_result"
    }
   ],
   "source": [
    "data['收藏率'].quantile([0.1, 0.2, 0.5, 0.8,0.9])"
   ]
  },
  {
   "cell_type": "code",
   "execution_count": 34,
   "metadata": {},
   "outputs": [
    {
     "data": {
      "text/plain": [
       "0.1    0.000000\n",
       "0.2    0.000000\n",
       "0.5    0.000000\n",
       "0.8    0.016000\n",
       "0.9    0.052632\n",
       "Name: 评论率, dtype: float64"
      ]
     },
     "execution_count": 34,
     "metadata": {},
     "output_type": "execute_result"
    }
   ],
   "source": [
    "data['评论率'].quantile([0.1, 0.2, 0.5, 0.8,0.9])"
   ]
  }
 ],
 "metadata": {
  "kernelspec": {
   "display_name": "base",
   "language": "python",
   "name": "python3"
  },
  "language_info": {
   "codemirror_mode": {
    "name": "ipython",
    "version": 3
   },
   "file_extension": ".py",
   "mimetype": "text/x-python",
   "name": "python",
   "nbconvert_exporter": "python",
   "pygments_lexer": "ipython3",
   "version": "3.9.6"
  }
 },
 "nbformat": 4,
 "nbformat_minor": 2
}
