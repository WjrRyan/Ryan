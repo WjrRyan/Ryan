{
 "cells": [
  {
   "cell_type": "code",
   "execution_count": 2,
   "metadata": {},
   "outputs": [
    {
     "name": "stderr",
     "output_type": "stream",
     "text": [
      "/Users/Ryan/Library/Python/3.9/lib/python/site-packages/openpyxl/styles/stylesheet.py:226: UserWarning: Workbook contains no default style, apply openpyxl's default\n",
      "  warn(\"Workbook contains no default style, apply openpyxl's default\")\n"
     ]
    },
    {
     "name": "stdout",
     "output_type": "stream",
     "text": [
      "分位数计算完成，结果保存在 output_with_percentiles.xlsx\n"
     ]
    }
   ],
   "source": [
    "import pandas as pd\n",
    "import numpy as np\n",
    "\n",
    "# 读取 Excel 文件\n",
    "file_path = '/Users/Ryan/Downloads/xmonslave.mysql.db.ctripcorp.com_ihub.xlsx'  # 替换为你的 Excel 文件路径\n",
    "df = pd.read_excel(file_path)\n",
    "\n",
    "# 假设 'process' 是你需要计算分位数的列\n",
    "process_column = 'process'\n",
    "\n",
    "# 计算分位数\n",
    "df['25th_percentile'] = np.percentile(df[process_column], 25)\n",
    "df['50th_percentile'] = np.percentile(df[process_column], 50)  # 中位数\n",
    "df['75th_percentile'] = np.percentile(df[process_column], 75)\n",
    "\n",
    "# 如果你想要每个元素在不同分位数的标签，可以使用 pd.qcut\n",
    "df['process_quartile'] = pd.qcut(df[process_column], q=4, labels=False)\n",
    "\n",
    "# 保存结果到新的 Excel 文件\n",
    "output_file = 'output_with_percentiles.xlsx'\n",
    "df.to_excel(output_file, index=False)\n",
    "\n",
    "print(f'分位数计算完成，结果保存在 {output_file}')"
   ]
  },
  {
   "cell_type": "code",
   "execution_count": 1,
   "metadata": {},
   "outputs": [
    {
     "name": "stdout",
     "output_type": "stream",
     "text": [
      "Defaulting to user installation because normal site-packages is not writeable\n",
      "Requirement already satisfied: pandas in /Users/Ryan/Library/Python/3.9/lib/python/site-packages (2.2.2)\n",
      "Requirement already satisfied: numpy in /Users/Ryan/Library/Python/3.9/lib/python/site-packages (1.26.4)\n",
      "Requirement already satisfied: python-dateutil>=2.8.2 in /Users/Ryan/Library/Python/3.9/lib/python/site-packages (from pandas) (2.9.0.post0)\n",
      "Requirement already satisfied: pytz>=2020.1 in /Users/Ryan/Library/Python/3.9/lib/python/site-packages (from pandas) (2024.1)\n",
      "Requirement already satisfied: tzdata>=2022.7 in /Users/Ryan/Library/Python/3.9/lib/python/site-packages (from pandas) (2024.1)\n",
      "Requirement already satisfied: six>=1.5 in /Library/Developer/CommandLineTools/Library/Frameworks/Python3.framework/Versions/3.9/lib/python3.9/site-packages (from python-dateutil>=2.8.2->pandas) (1.15.0)\n",
      "\u001b[33mWARNING: You are using pip version 21.2.4; however, version 24.2 is available.\n",
      "You should consider upgrading via the '/Library/Developer/CommandLineTools/usr/bin/python3 -m pip install --upgrade pip' command.\u001b[0m\n",
      "Note: you may need to restart the kernel to use updated packages.\n"
     ]
    }
   ],
   "source": [
    "pip install pandas numpy"
   ]
  }
 ],
 "metadata": {
  "kernelspec": {
   "display_name": "Python 3",
   "language": "python",
   "name": "python3"
  },
  "language_info": {
   "codemirror_mode": {
    "name": "ipython",
    "version": 3
   },
   "file_extension": ".py",
   "mimetype": "text/x-python",
   "name": "python",
   "nbconvert_exporter": "python",
   "pygments_lexer": "ipython3",
   "version": "3.9.6"
  }
 },
 "nbformat": 4,
 "nbformat_minor": 2
}
